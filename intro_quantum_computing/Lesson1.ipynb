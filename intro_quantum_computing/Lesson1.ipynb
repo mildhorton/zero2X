{
 "cells": [
  {
   "cell_type": "code",
   "execution_count": 1,
   "id": "f8b6ec71",
   "metadata": {},
   "outputs": [
    {
     "name": "stdout",
     "output_type": "stream",
     "text": [
      "2.1.1\n"
     ]
    }
   ],
   "source": [
    "import qiskit\n",
    "print(qiskit.__version__)"
   ]
  },
  {
   "cell_type": "code",
   "execution_count": 2,
   "id": "ecf8e755",
   "metadata": {},
   "outputs": [
    {
     "name": "stdout",
     "output_type": "stream",
     "text": [
      "[12.]\n"
     ]
    }
   ],
   "source": [
    "from sklearn.linear_model import LinearRegression\n",
    "import numpy as np\n",
    "\n",
    "# Sample Data\n",
    "X = np.array([1,2,3,4,5]).reshape(-1,1)\n",
    "y = np.array([2,4,6,8,10])\n",
    "\n",
    "# Train Model\n",
    "model = LinearRegression()\n",
    "model.fit(X,y)\n",
    "\n",
    "# Predict\n",
    "print(model.predict([[6]]))"
   ]
  },
  {
   "cell_type": "markdown",
   "id": "56a342c2",
   "metadata": {},
   "source": [
    "## Simple Qiskit Circuit"
   ]
  },
  {
   "cell_type": "code",
   "execution_count": 9,
   "id": "a4b47676",
   "metadata": {},
   "outputs": [],
   "source": [
    "from qiskit import QuantumCircuit\n",
    "from qiskit_aer import Aer"
   ]
  },
  {
   "cell_type": "code",
   "execution_count": 13,
   "id": "a3543768",
   "metadata": {},
   "outputs": [
    {
     "name": "stdout",
     "output_type": "stream",
     "text": [
      "{'1': 515, '0': 509}\n"
     ]
    }
   ],
   "source": [
    "# Create a Quantum Circuit with 1 Qubit and 1 Classical Bit\n",
    "qc = QuantumCircuit(1,1)\n",
    "qc.h(0) # Apply Hadamard gate\n",
    "\n",
    "# Add Measurement (Important for getting counts!)\n",
    "qc.measure(0,0)\n",
    "\n",
    "# Simulate using Aer simulator\n",
    "simulator = Aer.get_backend('aer_simulator')\n",
    "\n",
    "# Run the circuit\n",
    "job = simulator.run(qc)\n",
    "result = job.result()\n",
    "\n",
    "# Print measurement results\n",
    "print(result.get_counts())\n"
   ]
  },
  {
   "cell_type": "code",
   "execution_count": null,
   "id": "53b5ec3a",
   "metadata": {},
   "outputs": [],
   "source": []
  }
 ],
 "metadata": {
  "kernelspec": {
   "display_name": "Python 3",
   "language": "python",
   "name": "python3"
  },
  "language_info": {
   "codemirror_mode": {
    "name": "ipython",
    "version": 3
   },
   "file_extension": ".py",
   "mimetype": "text/x-python",
   "name": "python",
   "nbconvert_exporter": "python",
   "pygments_lexer": "ipython3",
   "version": "3.12.1"
  }
 },
 "nbformat": 4,
 "nbformat_minor": 5
}
