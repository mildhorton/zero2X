{
 "cells": [
  {
   "cell_type": "markdown",
   "id": "427d8e2a",
   "metadata": {},
   "source": [
    "# Foundations to AI\n",
    "Introduction to Ai and Quantum computing"
   ]
  },
  {
   "cell_type": "markdown",
   "id": "1c84b333",
   "metadata": {},
   "source": []
  }
 ],
 "metadata": {
  "language_info": {
   "name": "python"
  }
 },
 "nbformat": 4,
 "nbformat_minor": 5
}
