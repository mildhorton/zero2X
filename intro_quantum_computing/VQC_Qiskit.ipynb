{
 "cells": [
  {
   "cell_type": "code",
   "execution_count": null,
   "id": "b6d5f6c3",
   "metadata": {},
   "outputs": [],
   "source": []
  },
  {
   "cell_type": "markdown",
   "id": "41676640",
   "metadata": {},
   "source": [
    "## **Train a Variational Quantum Classifier (VQC)**"
   ]
  },
  {
   "cell_type": "markdown",
   "id": "7ca5a269",
   "metadata": {},
   "source": []
  },
  {
   "cell_type": "code",
   "execution_count": 16,
   "id": "848ca1df",
   "metadata": {},
   "outputs": [],
   "source": [
    "# Import required libraries\n",
    "import numpy as np\n",
    "import matplotlib.pyplot as plt\n",
    "from qiskit_aer import Aer\n",
    "from qiskit.primitives import StatevectorSampler\n",
    "from qiskit_machine_learning.algorithms.classifiers import VQC\n",
    "from qiskit_machine_learning.kernels import FidelityQuantumKernel\n",
    "from qiskit.circuit.library import ZZFeatureMap, RealAmplitudes\n",
    "from qiskit_algorithms.optimizers import COBYLA\n",
    "from qiskit.transpiler import PassManager\n",
    "from qiskit.transpiler.passes import Optimize1qGatesDecomposition, CommutativeCancellation\n",
    "from sklearn.model_selection import train_test_split\n",
    "from sklearn.preprocessing import StandardScaler\n",
    "from sklearn.datasets import make_classification"
   ]
  },
  {
   "cell_type": "code",
   "execution_count": 17,
   "id": "b01a720d",
   "metadata": {},
   "outputs": [],
   "source": [
    "# Step 1: Generate and Preprocess Data\n",
    "X, y = make_classification(n_samples=100,\n",
    "                          n_features=2, # Total number of features\n",
    "                          n_informative=2, # Ensure sum <_ total of features\n",
    "                          n_redundant=0, # No redundant features\n",
    "                          n_clusters_per_class=1,\n",
    "                          random_state=42)"
   ]
  },
  {
   "cell_type": "code",
   "execution_count": 18,
   "id": "68158c79",
   "metadata": {},
   "outputs": [],
   "source": [
    "# Normalize the data\n",
    "scaler = StandardScaler()\n",
    "X_scaled = scaler.fit_transform(X)\n"
   ]
  },
  {
   "cell_type": "code",
   "execution_count": 19,
   "id": "8a6e15fe",
   "metadata": {},
   "outputs": [],
   "source": [
    "# Split into training and testing sets\n",
    "X_train,X_test,y_train, y_test = train_test_split(X_scaled, y, test_size=0.2, random_state=42)"
   ]
  },
  {
   "cell_type": "code",
   "execution_count": 20,
   "id": "c7de9578",
   "metadata": {},
   "outputs": [],
   "source": [
    "# Step 2: Define Quantum Feature Map\n",
    "feature_map = ZZFeatureMap(feature_dimension=2, reps=2, entanglement='linear')"
   ]
  },
  {
   "cell_type": "code",
   "execution_count": 21,
   "id": "b97f5a0b",
   "metadata": {},
   "outputs": [],
   "source": [
    "# Step 3: Define Variational Quantum Circuit (Ansatz)\n",
    "ansatz = RealAmplitudes(num_qubits=2, reps=3, entanglement='linear')"
   ]
  },
  {
   "cell_type": "code",
   "execution_count": 22,
   "id": "0f929edf",
   "metadata": {},
   "outputs": [],
   "source": [
    "# Step 4: Initialize the StatevectorSampler (Qiskit 1.2+)\n",
    "sampler = StatevectorSampler()"
   ]
  },
  {
   "cell_type": "code",
   "execution_count": 23,
   "id": "a8c85af2",
   "metadata": {},
   "outputs": [],
   "source": [
    "# Step 5: Define Fidelity Quantum Kernel\n",
    "quantum_kernel = FidelityQuantumKernel(feature_map=feature_map, fidelity=sampler)"
   ]
  },
  {
   "cell_type": "code",
   "execution_count": 24,
   "id": "787c5496",
   "metadata": {},
   "outputs": [],
   "source": [
    "# Step 6: Instantiate the Optimizer (Corrected Import)\n",
    "optimizer =COBYLA(maxiter=100) # Ensure optimizer is an instance, not a string\n"
   ]
  },
  {
   "cell_type": "code",
   "execution_count": 25,
   "id": "d6d69bf6",
   "metadata": {},
   "outputs": [],
   "source": [
    "# Step 7: Define a Custom pass Manager for Transpilation ( Fixes warnings )\n",
    "pass_manager = PassManager([\n",
    "    Optimize1qGatesDecomposition(basis=['u3', 'cx']),\n",
    "    CommutativeCancellation()\n",
    "])"
   ]
  },
  {
   "cell_type": "code",
   "execution_count": 26,
   "id": "6f863480",
   "metadata": {},
   "outputs": [],
   "source": [
    "# Step 8: Define the Variational Quantum Classifier (VQC)\n",
    "vqc = VQC(\n",
    "    feature_map=feature_map,\n",
    "    ansatz=ansatz,\n",
    "    optimizer= optimizer,\n",
    "    sampler=sampler,\n",
    "    pass_manager=pass_manager # Provide pass manager to avoid transpilation warnings\n",
    ")"
   ]
  },
  {
   "cell_type": "code",
   "execution_count": 27,
   "id": "e003a824",
   "metadata": {},
   "outputs": [],
   "source": [
    "# Step 9: Train the VQC Model\n",
    "vqc.fit(X_train, y_train)\n",
    "\n",
    "# step 10: Evaluate the model\n",
    "y_pred = vqc.predict(X_test)\n",
    "\n",
    "# Calculate accuracy\n",
    "accuracy = np.mean(y_pred == y_test)"
   ]
  },
  {
   "cell_type": "code",
   "execution_count": null,
   "id": "4b2912cc",
   "metadata": {},
   "outputs": [
    {
     "name": "stdout",
     "output_type": "stream",
     "text": [
      "0.75\n"
     ]
    }
   ],
   "source": [
    "print(accuracy)"
   ]
  },
  {
   "cell_type": "code",
   "execution_count": null,
   "id": "32f33bdd",
   "metadata": {},
   "outputs": [],
   "source": []
  }
 ],
 "metadata": {
  "kernelspec": {
   "display_name": "Python 3",
   "language": "python",
   "name": "python3"
  },
  "language_info": {
   "codemirror_mode": {
    "name": "ipython",
    "version": 3
   },
   "file_extension": ".py",
   "mimetype": "text/x-python",
   "name": "python",
   "nbconvert_exporter": "python",
   "pygments_lexer": "ipython3",
   "version": "3.12.1"
  }
 },
 "nbformat": 4,
 "nbformat_minor": 5
}
