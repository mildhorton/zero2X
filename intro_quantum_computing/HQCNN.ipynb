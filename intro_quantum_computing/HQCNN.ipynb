{
 "cells": [
  {
   "cell_type": "markdown",
   "id": "f3d1d79f",
   "metadata": {},
   "source": [
    "## Hybrid Quantum-Classical Neural Networks (HQCNNs)"
   ]
  },
  {
   "cell_type": "code",
   "execution_count": 1,
   "id": "0345f700",
   "metadata": {},
   "outputs": [],
   "source": [
    "import torch\n",
    "import torch.nn as nn\n",
    "import torch.optim as optim\n",
    "from sklearn.datasets import make_moons\n",
    "from sklearn.model_selection import train_test_split\n",
    "from sklearn.preprocessing import StandardScaler\n",
    "from qiskit.primitives import StatevectorEstimator\n",
    "from qiskit.circuit.library import RealAmplitudes\n",
    "from qiskit_machine_learning.neural_networks import EstimatorQNN\n",
    "from qiskit_machine_learning.connectors import TorchConnector\n"
   ]
  },
  {
   "cell_type": "code",
   "execution_count": 3,
   "id": "ca45dbac",
   "metadata": {},
   "outputs": [],
   "source": [
    "# Step 1: Generate and Preprocess Data\n",
    "X, y = make_moons(n_samples=100, noise=0.1, random_state=42)\n",
    "\n",
    "# Normalize and split data\n",
    "scaler = StandardScaler()\n",
    "X_scaled = scaler.fit_transform(X)\n",
    "X_train, X_test, y_train, y_test = train_test_split(X_scaled, y, test_size=0.2, random_state=42)\n",
    "\n",
    "# Convert to PyTorch tensors\n",
    "X_train_torch = torch.tensor(X_train, dtype=torch.float32)\n",
    "X_test_torch = torch.tensor(X_test, dtype=torch.float)\n",
    "y_train_torch = torch.tensor(y_train,dtype=torch.long)\n",
    "y_test_torch = torch.tensor(y_test, dtype=torch.long)\n"
   ]
  },
  {
   "cell_type": "code",
   "execution_count": 4,
   "id": "67c6f0f0",
   "metadata": {},
   "outputs": [],
   "source": [
    "# Step 2: Define the Quantum Circuit (RealAmplitudes)\n",
    "num_qubits = 2\n",
    "quantum_circuit = RealAmplitudes(num_qubits, reps=3)"
   ]
  },
  {
   "cell_type": "code",
   "execution_count": 5,
   "id": "1efd43f0",
   "metadata": {},
   "outputs": [
    {
     "name": "stderr",
     "output_type": "stream",
     "text": [
      "No gradient function provided, creating a gradient function. If your Estimator requires transpilation, please provide a pass manager.\n"
     ]
    }
   ],
   "source": [
    "# Step 3: Wrap the Quantum Circuit in an EstimatorQNN\n",
    "estimator = StatevectorEstimator()\n",
    "qnn = EstimatorQNN(\n",
    "    circuit=quantum_circuit,\n",
    "    estimator=estimator,\n",
    "    input_params=quantum_circuit.parameters[:2],\n",
    "    weight_params=quantum_circuit.parameters[2:]\n",
    ")"
   ]
  },
  {
   "cell_type": "code",
   "execution_count": 6,
   "id": "fb987b54",
   "metadata": {},
   "outputs": [],
   "source": [
    "# Step 4: Convert Quantum Circuit to a Pytorch-Compatible Layer\n",
    "quantum_layer = TorchConnector(qnn)"
   ]
  },
  {
   "cell_type": "code",
   "execution_count": 7,
   "id": "586f7dec",
   "metadata": {},
   "outputs": [],
   "source": [
    "# Step 5: Define Hybrid Quantum-Classical Neural Network\n",
    "class HybridQuantumNN(nn.Module):\n",
    "    def __init__(self):\n",
    "        super(HybridQuantumNN, self).__init__()\n",
    "        self.fc1 = nn.Linear(2,2)\n",
    "        self.quantum = quantum_layer\n",
    "        self.fc2 = nn.Linear(1,2)\n",
    "\n",
    "    def forward(self, x):\n",
    "        x = torch.tanh(self.fc1(x))\n",
    "        x = self.quantum(x)\n",
    "        x = self.fc2(x)\n",
    "        return x"
   ]
  },
  {
   "cell_type": "code",
   "execution_count": null,
   "id": "d492b469",
   "metadata": {},
   "outputs": [],
   "source": [
    "# Step 6: Initialize Model, Loss Function, and Optimizer\n",
    "model = HybridQuantumNN()\n",
    "criterion = nn.CrossEntropyLoss()\n",
    "optimizer = optim.Adam(model.parameters(), lr=0.01)"
   ]
  },
  {
   "cell_type": "code",
   "execution_count": 12,
   "id": "e3f12741",
   "metadata": {},
   "outputs": [
    {
     "name": "stdout",
     "output_type": "stream",
     "text": [
      "Epoch 10/50, Loss: 0.6826\n",
      "Epoch 20/50, Loss: 0.6684\n",
      "Epoch 30/50, Loss: 0.6408\n",
      "Epoch 40/50, Loss: 0.6019\n",
      "Epoch 50/50, Loss: 0.5624\n"
     ]
    }
   ],
   "source": [
    "# Step 7: Train the Model\n",
    "epochs = 50\n",
    "for epoch in range(epochs):\n",
    "    optimizer.zero_grad()\n",
    "    outputs = model(X_train_torch)\n",
    "    loss = criterion(outputs, y_train_torch)\n",
    "    loss.backward()\n",
    "    optimizer.step()\n",
    "\n",
    "    if (epoch +1) % 10 == 0:\n",
    "        print(f\"Epoch {epoch+1}/{epochs}, Loss: {loss.item():.4f}\")"
   ]
  },
  {
   "cell_type": "code",
   "execution_count": 13,
   "id": "1c5a7d5c",
   "metadata": {},
   "outputs": [
    {
     "name": "stdout",
     "output_type": "stream",
     "text": [
      "Test Accuracy: 85.00%\n"
     ]
    }
   ],
   "source": [
    "# Step 8: Evaluate the Model\n",
    "with torch.no_grad():\n",
    "    y_pred = model(X_test_torch).argmax(dim=1)\n",
    "    accuracy = (y_pred == y_test_torch).float().mean()\n",
    "    print(f\"Test Accuracy: {accuracy * 100:.2f}%\")"
   ]
  },
  {
   "cell_type": "code",
   "execution_count": null,
   "id": "ec318b4b",
   "metadata": {},
   "outputs": [],
   "source": []
  }
 ],
 "metadata": {
  "kernelspec": {
   "display_name": "Python 3",
   "language": "python",
   "name": "python3"
  },
  "language_info": {
   "codemirror_mode": {
    "name": "ipython",
    "version": 3
   },
   "file_extension": ".py",
   "mimetype": "text/x-python",
   "name": "python",
   "nbconvert_exporter": "python",
   "pygments_lexer": "ipython3",
   "version": "3.12.1"
  }
 },
 "nbformat": 4,
 "nbformat_minor": 5
}
