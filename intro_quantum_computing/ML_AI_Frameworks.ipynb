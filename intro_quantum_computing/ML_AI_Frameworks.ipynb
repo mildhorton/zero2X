{
 "cells": [
  {
   "cell_type": "code",
   "execution_count": 1,
   "id": "640e7850",
   "metadata": {},
   "outputs": [],
   "source": [
    "import numpy as np"
   ]
  },
  {
   "cell_type": "code",
   "execution_count": 2,
   "id": "a78d35d5",
   "metadata": {},
   "outputs": [
    {
     "name": "stdout",
     "output_type": "stream",
     "text": [
      "Array: [1 2 3 4 5]\n"
     ]
    }
   ],
   "source": [
    "# creating a np array\n",
    "arr = np.array([1,2,3,4,5])\n",
    "print(\"Array:\",arr)\n",
    "\n"
   ]
  },
  {
   "cell_type": "code",
   "execution_count": 3,
   "id": "5c47999f",
   "metadata": {},
   "outputs": [
    {
     "name": "stdout",
     "output_type": "stream",
     "text": [
      "Reshaped Matrix:\n",
      " [[1]\n",
      " [2]\n",
      " [3]\n",
      " [4]\n",
      " [5]]\n"
     ]
    }
   ],
   "source": [
    "# Reshaping an array\n",
    "matrix = arr.reshape(5,1)\n",
    "print(\"Reshaped Matrix:\\n\", matrix)"
   ]
  },
  {
   "cell_type": "code",
   "execution_count": 4,
   "id": "dc8fe280",
   "metadata": {},
   "outputs": [
    {
     "name": "stdout",
     "output_type": "stream",
     "text": [
      "Squared Array: [ 1  4  9 16 25]\n"
     ]
    }
   ],
   "source": [
    "# Performing mathematical operations\n",
    "arr_squared = arr ** 2\n",
    "print(\"Squared Array:\", arr_squared)"
   ]
  },
  {
   "cell_type": "code",
   "execution_count": 5,
   "id": "fbf0adaf",
   "metadata": {},
   "outputs": [
    {
     "name": "stdout",
     "output_type": "stream",
     "text": [
      "Random Matrix:\n",
      " [[0.29567236 0.76440365 0.98712722]\n",
      " [0.77204409 0.09687235 0.36061115]\n",
      " [0.05933378 0.74478696 0.66389972]]\n"
     ]
    }
   ],
   "source": [
    "# Generating a random matrix\n",
    "random_matrix = np.random.rand(3,3)\n",
    "print(\"Random Matrix:\\n\", random_matrix)"
   ]
  },
  {
   "cell_type": "markdown",
   "id": "6741cec7",
   "metadata": {},
   "source": [
    "## Working with pandas"
   ]
  },
  {
   "cell_type": "code",
   "execution_count": 6,
   "id": "9c381130",
   "metadata": {},
   "outputs": [],
   "source": [
    "import pandas as pd\n"
   ]
  },
  {
   "cell_type": "code",
   "execution_count": 8,
   "id": "407dd85d",
   "metadata": {},
   "outputs": [
    {
     "name": "stdout",
     "output_type": "stream",
     "text": [
      "DataFrame:\n",
      "   Name  Age  Salary\n",
      "0  bob   23  100000\n",
      "1   me   45   13000\n",
      "2  you   19   90000\n"
     ]
    }
   ],
   "source": [
    "# Creating a DataFrame\n",
    "data = {'Name': ['bob','me', 'you'], 'Age': [ 23, 45, 19], 'Salary': [ 100000, 13000, 90000]}\n",
    "df = pd.DataFrame(data)\n",
    "print(\"DataFrame:\\n\",df)\n",
    "\n",
    "# Reading data from a CSV file\n",
    "# df = pd.read_csv(\"data.csv\")"
   ]
  },
  {
   "cell_type": "code",
   "execution_count": 9,
   "id": "a2ecd3a6",
   "metadata": {},
   "outputs": [
    {
     "name": "stdout",
     "output_type": "stream",
     "text": [
      "  Name  Age  Salary\n",
      "0  bob   23  100000\n",
      "1   me   45   13000\n",
      "2  you   19   90000\n"
     ]
    }
   ],
   "source": [
    "# Display the first 5 rows\n",
    "print(df.head())"
   ]
  },
  {
   "cell_type": "code",
   "execution_count": 10,
   "id": "a902bca4",
   "metadata": {},
   "outputs": [
    {
     "name": "stdout",
     "output_type": "stream",
     "text": [
      "        Age         Salary\n",
      "count   3.0       3.000000\n",
      "mean   29.0   67666.666667\n",
      "std    14.0   47606.022028\n",
      "min    19.0   13000.000000\n",
      "25%    21.0   51500.000000\n",
      "50%    23.0   90000.000000\n",
      "75%    34.0   95000.000000\n",
      "max    45.0  100000.000000\n"
     ]
    }
   ],
   "source": [
    "# Descriptive statistics of numerical columns\n",
    "print(df.describe())"
   ]
  },
  {
   "cell_type": "code",
   "execution_count": 11,
   "id": "f887cfb1",
   "metadata": {},
   "outputs": [],
   "source": [
    "# Handling missing values\n",
    "df.fillna(0, inplace=True)"
   ]
  },
  {
   "cell_type": "code",
   "execution_count": 13,
   "id": "0e17864a",
   "metadata": {},
   "outputs": [
    {
     "name": "stdout",
     "output_type": "stream",
     "text": [
      "Filtered Data:\n",
      "   Name  Age  Salary\n",
      "1   me   45   13000\n"
     ]
    }
   ],
   "source": [
    "# Filtering data\n",
    "filtered_df = df[df[\"Age\"]> 30]\n",
    "print(\"Filtered Data:\\n\", filtered_df)"
   ]
  },
  {
   "cell_type": "markdown",
   "id": "4ac3d910",
   "metadata": {},
   "source": [
    "### Scikit-Learn basics"
   ]
  },
  {
   "cell_type": "code",
   "execution_count": null,
   "id": "93bc2e11",
   "metadata": {},
   "outputs": [],
   "source": []
  }
 ],
 "metadata": {
  "kernelspec": {
   "display_name": "Python 3",
   "language": "python",
   "name": "python3"
  },
  "language_info": {
   "codemirror_mode": {
    "name": "ipython",
    "version": 3
   },
   "file_extension": ".py",
   "mimetype": "text/x-python",
   "name": "python",
   "nbconvert_exporter": "python",
   "pygments_lexer": "ipython3",
   "version": "3.12.1"
  }
 },
 "nbformat": 4,
 "nbformat_minor": 5
}
