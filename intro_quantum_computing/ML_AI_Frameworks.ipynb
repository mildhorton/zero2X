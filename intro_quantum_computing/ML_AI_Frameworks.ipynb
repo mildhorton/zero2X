{
 "cells": [
  {
   "cell_type": "code",
   "execution_count": 1,
   "id": "640e7850",
   "metadata": {},
   "outputs": [],
   "source": [
    "import numpy as np"
   ]
  },
  {
   "cell_type": "code",
   "execution_count": 2,
   "id": "a78d35d5",
   "metadata": {},
   "outputs": [
    {
     "name": "stdout",
     "output_type": "stream",
     "text": [
      "Array: [1 2 3 4 5]\n"
     ]
    }
   ],
   "source": [
    "# creating a np array\n",
    "arr = np.array([1,2,3,4,5])\n",
    "print(\"Array:\",arr)\n",
    "\n"
   ]
  },
  {
   "cell_type": "code",
   "execution_count": 3,
   "id": "5c47999f",
   "metadata": {},
   "outputs": [
    {
     "name": "stdout",
     "output_type": "stream",
     "text": [
      "Reshaped Matrix:\n",
      " [[1]\n",
      " [2]\n",
      " [3]\n",
      " [4]\n",
      " [5]]\n"
     ]
    }
   ],
   "source": [
    "# Reshaping an array\n",
    "matrix = arr.reshape(5,1)\n",
    "print(\"Reshaped Matrix:\\n\", matrix)"
   ]
  },
  {
   "cell_type": "code",
   "execution_count": 4,
   "id": "dc8fe280",
   "metadata": {},
   "outputs": [
    {
     "name": "stdout",
     "output_type": "stream",
     "text": [
      "Squared Array: [ 1  4  9 16 25]\n"
     ]
    }
   ],
   "source": [
    "# Performing mathematical operations\n",
    "arr_squared = arr ** 2\n",
    "print(\"Squared Array:\", arr_squared)"
   ]
  },
  {
   "cell_type": "code",
   "execution_count": 5,
   "id": "fbf0adaf",
   "metadata": {},
   "outputs": [
    {
     "name": "stdout",
     "output_type": "stream",
     "text": [
      "Random Matrix:\n",
      " [[0.29567236 0.76440365 0.98712722]\n",
      " [0.77204409 0.09687235 0.36061115]\n",
      " [0.05933378 0.74478696 0.66389972]]\n"
     ]
    }
   ],
   "source": [
    "# Generating a random matrix\n",
    "random_matrix = np.random.rand(3,3)\n",
    "print(\"Random Matrix:\\n\", random_matrix)"
   ]
  },
  {
   "cell_type": "markdown",
   "id": "6741cec7",
   "metadata": {},
   "source": [
    "## Working with pandas"
   ]
  },
  {
   "cell_type": "code",
   "execution_count": 6,
   "id": "9c381130",
   "metadata": {},
   "outputs": [],
   "source": [
    "import pandas as pd\n"
   ]
  },
  {
   "cell_type": "code",
   "execution_count": 8,
   "id": "407dd85d",
   "metadata": {},
   "outputs": [
    {
     "name": "stdout",
     "output_type": "stream",
     "text": [
      "DataFrame:\n",
      "   Name  Age  Salary\n",
      "0  bob   23  100000\n",
      "1   me   45   13000\n",
      "2  you   19   90000\n"
     ]
    }
   ],
   "source": [
    "# Creating a DataFrame\n",
    "data = {'Name': ['bob','me', 'you'], 'Age': [ 23, 45, 19], 'Salary': [ 100000, 13000, 90000]}\n",
    "df = pd.DataFrame(data)\n",
    "print(\"DataFrame:\\n\",df)\n",
    "\n",
    "# Reading data from a CSV file\n",
    "# df = pd.read_csv(\"data.csv\")"
   ]
  },
  {
   "cell_type": "code",
   "execution_count": 9,
   "id": "a2ecd3a6",
   "metadata": {},
   "outputs": [
    {
     "name": "stdout",
     "output_type": "stream",
     "text": [
      "  Name  Age  Salary\n",
      "0  bob   23  100000\n",
      "1   me   45   13000\n",
      "2  you   19   90000\n"
     ]
    }
   ],
   "source": [
    "# Display the first 5 rows\n",
    "print(df.head())"
   ]
  },
  {
   "cell_type": "code",
   "execution_count": 10,
   "id": "a902bca4",
   "metadata": {},
   "outputs": [
    {
     "name": "stdout",
     "output_type": "stream",
     "text": [
      "        Age         Salary\n",
      "count   3.0       3.000000\n",
      "mean   29.0   67666.666667\n",
      "std    14.0   47606.022028\n",
      "min    19.0   13000.000000\n",
      "25%    21.0   51500.000000\n",
      "50%    23.0   90000.000000\n",
      "75%    34.0   95000.000000\n",
      "max    45.0  100000.000000\n"
     ]
    }
   ],
   "source": [
    "# Descriptive statistics of numerical columns\n",
    "print(df.describe())"
   ]
  },
  {
   "cell_type": "code",
   "execution_count": 11,
   "id": "f887cfb1",
   "metadata": {},
   "outputs": [],
   "source": [
    "# Handling missing values\n",
    "df.fillna(0, inplace=True)"
   ]
  },
  {
   "cell_type": "code",
   "execution_count": 13,
   "id": "0e17864a",
   "metadata": {},
   "outputs": [
    {
     "name": "stdout",
     "output_type": "stream",
     "text": [
      "Filtered Data:\n",
      "   Name  Age  Salary\n",
      "1   me   45   13000\n"
     ]
    }
   ],
   "source": [
    "# Filtering data\n",
    "filtered_df = df[df[\"Age\"]> 30]\n",
    "print(\"Filtered Data:\\n\", filtered_df)"
   ]
  },
  {
   "cell_type": "markdown",
   "id": "4ac3d910",
   "metadata": {},
   "source": [
    "### Scikit-Learn basics"
   ]
  },
  {
   "cell_type": "code",
   "execution_count": 1,
   "id": "93bc2e11",
   "metadata": {},
   "outputs": [],
   "source": [
    "from sklearn.model_selection import train_test_split\n",
    "from sklearn.linear_model import LogisticRegression\n",
    "from sklearn.metrics import accuracy_score"
   ]
  },
  {
   "cell_type": "code",
   "execution_count": 3,
   "id": "80bcedd9",
   "metadata": {},
   "outputs": [
    {
     "name": "stdout",
     "output_type": "stream",
     "text": [
      "Accuracy: 1.0\n"
     ]
    }
   ],
   "source": [
    "# Sample datay\n",
    "X = [[1], [2],[3],[4],[5],[1],[2],[3],[4],[5],[1], [2],[3],[4],[5],[1],[2],[3],[4],[5]]\n",
    "y = [1,2,3,4,5,1,2,3,4,5,1,2,3,4,5,1,2,3,4,5] # Labels\n",
    "\n",
    "# Split data into training and testing sets\n",
    "X_train, X_test, y_train, y_test = train_test_split(X,y, test_size=0.2, random_state=42)\n",
    "\n",
    "# Train a model\n",
    "model = LogisticRegression()\n",
    "model.fit(X_train, y_train)\n",
    "\n",
    "# Make predictions\n",
    "y_pred = model.predict(X_test)\n",
    "\n",
    "# Evaluate model\n",
    "accuracy = accuracy_score(y_test, y_pred)\n",
    "print(\"Accuracy:\", accuracy)"
   ]
  },
  {
   "cell_type": "markdown",
   "id": "663dec54",
   "metadata": {},
   "source": [
    "### Feature Engineering & Data Preprocessing"
   ]
  },
  {
   "cell_type": "code",
   "execution_count": 4,
   "id": "50a69831",
   "metadata": {},
   "outputs": [],
   "source": [
    "import pandas as pd\n",
    "from sklearn.preprocessing import OneHotEncoder, StandardScaler\n"
   ]
  },
  {
   "cell_type": "code",
   "execution_count": 6,
   "id": "c020873d",
   "metadata": {},
   "outputs": [],
   "source": [
    "# Sample dataset\n",
    "data = {'Age': [23, 30, 35, 42, None], 'Salary': [14000, 60000, 120000, None, 5], 'Gender':['Guy', 'Lady','Lady','Guy', 'Guy']}\n",
    "df = pd.DataFrame(data)\n",
    "\n",
    "# Handling missing values (fill with mean)\n",
    "df[\"Age\"]  = df[\"Age\"].fillna(df[\"Age\"].mean())\n",
    "df[\"Salary\"] = df[\"Salary\"].fillna(df[\"Salary\"].mean())"
   ]
  },
  {
   "cell_type": "code",
   "execution_count": 8,
   "id": "8750784b",
   "metadata": {},
   "outputs": [],
   "source": [
    "# Encoding caegorical variable\n",
    "encoder = OneHotEncoder(sparse_output=False)\n",
    "gender_encoded = encoder.fit_transform(df[['Gender']])\n",
    "df_gender = pd.DataFrame(gender_encoded, columns=['Guy', 'Lady'])"
   ]
  },
  {
   "cell_type": "code",
   "execution_count": 9,
   "id": "595dac55",
   "metadata": {},
   "outputs": [],
   "source": [
    "# Scaling numerical features\n",
    "scaler = StandardScaler()\n",
    "df[['Age', 'Salary']] = scaler.fit_transform(df[['Age','Salary']])"
   ]
  },
  {
   "cell_type": "code",
   "execution_count": 10,
   "id": "c7c16527",
   "metadata": {},
   "outputs": [
    {
     "name": "stdout",
     "output_type": "stream",
     "text": [
      "Preprocessed Data:\n",
      "         Age    Salary  Guy  Lady\n",
      "0 -1.529079 -0.823022  1.0   0.0\n",
      "1 -0.402389  0.274301  0.0   1.0\n",
      "2  0.402389  1.705592  0.0   1.0\n",
      "3  1.529079  0.000000  1.0   0.0\n",
      "4  0.000000 -1.156871  1.0   0.0\n"
     ]
    }
   ],
   "source": [
    "# Concatenatng final processed data\n",
    "df_final = pd.concat([df[['Age', 'Salary']], df_gender], axis=1)\n",
    "print(\"Preprocessed Data:\\n\",df_final)"
   ]
  },
  {
   "cell_type": "code",
   "execution_count": null,
   "id": "0be06b6e",
   "metadata": {},
   "outputs": [],
   "source": []
  }
 ],
 "metadata": {
  "kernelspec": {
   "display_name": "Python 3",
   "language": "python",
   "name": "python3"
  },
  "language_info": {
   "codemirror_mode": {
    "name": "ipython",
    "version": 3
   },
   "file_extension": ".py",
   "mimetype": "text/x-python",
   "name": "python",
   "nbconvert_exporter": "python",
   "pygments_lexer": "ipython3",
   "version": "3.12.1"
  }
 },
 "nbformat": 4,
 "nbformat_minor": 5
}
