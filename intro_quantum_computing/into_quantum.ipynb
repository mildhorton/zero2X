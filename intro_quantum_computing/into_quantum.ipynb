{
 "cells": [
  {
   "cell_type": "code",
   "execution_count": 13,
   "id": "ae860944",
   "metadata": {},
   "outputs": [],
   "source": [
    "from qiskit import QuantumCircuit"
   ]
  },
  {
   "cell_type": "code",
   "execution_count": 14,
   "id": "0a066956",
   "metadata": {},
   "outputs": [],
   "source": [
    "from qiskit_aer import Aer"
   ]
  },
  {
   "cell_type": "code",
   "execution_count": 16,
   "id": "8df7a48e",
   "metadata": {},
   "outputs": [],
   "source": [
    "import matplotlib.pyplot as plt"
   ]
  },
  {
   "cell_type": "code",
   "execution_count": 17,
   "id": "843558f7",
   "metadata": {},
   "outputs": [],
   "source": [
    "## Step 1: Create a quantum circuit with 1 qubit"
   ]
  },
  {
   "cell_type": "code",
   "execution_count": 18,
   "id": "4f7978b0",
   "metadata": {},
   "outputs": [],
   "source": [
    "qc = QuantumCircuit(1,1)"
   ]
  },
  {
   "cell_type": "code",
   "execution_count": 19,
   "id": "680f7b22",
   "metadata": {},
   "outputs": [
    {
     "data": {
      "text/plain": [
       "<qiskit.circuit.instructionset.InstructionSet at 0x728278263550>"
      ]
     },
     "execution_count": 19,
     "metadata": {},
     "output_type": "execute_result"
    }
   ],
   "source": [
    "# Step 2: Put the qubit in a superposition (like a swirled ice cream mix)\n",
    "qc.h(0) # Hadamard gate puts qubit in 50/50 superposition"
   ]
  },
  {
   "cell_type": "code",
   "execution_count": 21,
   "id": "c4d3bccd",
   "metadata": {},
   "outputs": [
    {
     "data": {
      "text/plain": [
       "<qiskit.circuit.instructionset.InstructionSet at 0x7282441ab790>"
      ]
     },
     "execution_count": 21,
     "metadata": {},
     "output_type": "execute_result"
    }
   ],
   "source": [
    "# Step 3: Measure the qubit (forcing it to choose chocolate or vanilla)\n",
    "qc.measure(0,0)"
   ]
  },
  {
   "cell_type": "code",
   "execution_count": 22,
   "id": "d80ba1e0",
   "metadata": {},
   "outputs": [],
   "source": [
    "# Step 4: Simulate the quantum experiment\n",
    "simulator = Aer.get_backend('aer_simulator')\n",
    "qc = qc.copy()\n",
    "qc.save_statevector()\n",
    "job = simulator.run(qc, shots=100)\n",
    "result = job.result()\n",
    "counts = result.get_counts()"
   ]
  },
  {
   "cell_type": "code",
   "execution_count": 25,
   "id": "d1ce9eda",
   "metadata": {},
   "outputs": [
    {
     "data": {
      "image/png": "[encoded data removed]",
      "text/plain": [
       "<Figure size 640x480 with 1 Axes>"
      ]
     },
     "metadata": {},
     "output_type": "display_data"
    }
   ],
   "source": [
    "# Step 5: Display the results\n",
    "flavors = {\"0\": \"Chocolate\", \"1\": \"Vanilla\"}\n",
    "labels = [flavors.get(key, key) for key in counts.keys()]\n",
    "\n",
    "plt.bar(labels, counts.values(), color=['brown', 'gold'])\n",
    "plt.xlabel(\"Flavor\")\n",
    "plt.ylabel(\"Count\")\n",
    "plt.title(\"Quantum Ice Cream Machine Results\")\n",
    "plt.show()"
   ]
  }
 ],
 "metadata": {
  "kernelspec": {
   "display_name": "Python 3",
   "language": "python",
   "name": "python3"
  },
  "language_info": {
   "codemirror_mode": {
    "name": "ipython",
    "version": 3
   },
   "file_extension": ".py",
   "mimetype": "text/x-python",
   "name": "python",
   "nbconvert_exporter": "python",
   "pygments_lexer": "ipython3",
   "version": "3.12.1"
  }
 },
 "nbformat": 4,
 "nbformat_minor": 5
}
