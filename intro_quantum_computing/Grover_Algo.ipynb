{
 "cells": [
  {
   "cell_type": "code",
   "execution_count": 1,
   "id": "56517a59",
   "metadata": {},
   "outputs": [],
   "source": [
    "from qiskit import QuantumCircuit\n",
    "from qiskit.visualization import plot_histogram\n",
    "from qiskit_aer import Aer"
   ]
  },
  {
   "cell_type": "code",
   "execution_count": 2,
   "id": "85274f63",
   "metadata": {},
   "outputs": [],
   "source": [
    "# Define the Oracle (marks the |11> state)\n",
    "def grover_oracle():\n",
    "    oracle = QuantumCircuit(2)\n",
    "    oracle.cz(0,1) # Controlled-Z gate to mark |11>\n",
    "    return oracle"
   ]
  },
  {
   "cell_type": "code",
   "execution_count": 3,
   "id": "a4eee15e",
   "metadata": {},
   "outputs": [],
   "source": [
    "# Define the Diffusion Operator (amplifies the correct stae)\n",
    "def diffusion_operator():\n",
    "    diffusion = QuantumCircuit(2)\n",
    "    diffusion.h([0,1]) # Apply Hadamard gates\n",
    "    diffusion.x([0,1]) # Apply X gates\n",
    "    diffusion.cz(0,1) # Apply Controlled-Z gate\n",
    "    diffusion.x([0,1]) # Apply X gate again\n",
    "    diffusion.h([0,1]) # Apply Hadamard gates again\n",
    "    return diffusion"
   ]
  },
  {
   "cell_type": "code",
   "execution_count": 4,
   "id": "fe0b4d5e",
   "metadata": {},
   "outputs": [],
   "source": [
    "# Create a 2-qubit quantum circuit\n",
    "qc = QuantumCircuit(2,2)"
   ]
  },
  {
   "cell_type": "code",
   "execution_count": 5,
   "id": "dc230ee7",
   "metadata": {},
   "outputs": [
    {
     "name": "stdout",
     "output_type": "stream",
     "text": [
      "{'11': 1000}\n"
     ]
    },
    {
     "data": {
      "image/png": "[encoded data removed]",
      "text/plain": [
       "<Figure size 640x480 with 1 Axes>"
      ]
     },
     "execution_count": 5,
     "metadata": {},
     "output_type": "execute_result"
    }
   ],
   "source": [
    "# Step 1: Initialize with Hadamard gates \n",
    "qc.h([0,1])\n",
    "\n",
    "# Step 2: App.y Grover's Oracle using .comose()\n",
    "qc = qc.compose(grover_oracle())\n",
    "\n",
    "# Step 3: Apply the Diffsion Operator Using .compose()\n",
    "qc = qc.compose(diffusion_operator())\n",
    "\n",
    "# Step 4: Measure the qubits\n",
    "qc.measure([0,1], [0,1])\n",
    "\n",
    "# Draw the circuit\n",
    "qc.draw('mpl')\n",
    "\n",
    "# Use Aer simulator\n",
    "simulator = Aer.get_backend('aer_simulator')\n",
    "\n",
    "# Execute the circuit\n",
    "job = simulator.run(qc, shots=1000)\n",
    "result = job.result()\n",
    "\n",
    "# Get the measurements results\n",
    "counts = result.get_counts(qc)\n",
    "print(counts)\n",
    "\n",
    "# Plot the results\n",
    "plot_histogram(counts)"
   ]
  },
  {
   "cell_type": "code",
   "execution_count": null,
   "id": "767bd046",
   "metadata": {},
   "outputs": [],
   "source": []
  }
 ],
 "metadata": {
  "kernelspec": {
   "display_name": "Python 3",
   "language": "python",
   "name": "python3"
  },
  "language_info": {
   "codemirror_mode": {
    "name": "ipython",
    "version": 3
   },
   "file_extension": ".py",
   "mimetype": "text/x-python",
   "name": "python",
   "nbconvert_exporter": "python",
   "pygments_lexer": "ipython3",
   "version": "3.12.1"
  }
 },
 "nbformat": 4,
 "nbformat_minor": 5
}
