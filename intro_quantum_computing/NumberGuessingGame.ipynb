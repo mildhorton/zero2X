{
 "cells": [
  {
   "cell_type": "code",
   "execution_count": 1,
   "id": "f1ee9342",
   "metadata": {},
   "outputs": [],
   "source": [
    "import random"
   ]
  },
  {
   "cell_type": "code",
   "execution_count": 3,
   "id": "91b79059",
   "metadata": {},
   "outputs": [
    {
     "name": "stdout",
     "output_type": "stream",
     "text": [
      "I'm thinking of a number between 1 and 10\n",
      "Too high! Try again\n",
      "Too high! Try again\n",
      "Congrats! You got the number!\n"
     ]
    }
   ],
   "source": [
    "secret_number = random.randint(1,10)\n",
    "attempts = 3\n",
    "\n",
    "print(\"I'm thinking of a number between 1 and 10\")\n",
    "\n",
    "while attempts > 0:\n",
    "    guess = int(input(\"Take a guess: \"))\n",
    "    if guess == secret_number:\n",
    "        print(\"Congrats! You got the number!\")\n",
    "        break\n",
    "    elif guess < secret_number:\n",
    "        print(\"Too low! Try another time.\")\n",
    "    else:\n",
    "        print(\"Too high! Try again\")\n",
    "    attempts -= 1\n",
    "\n",
    "    if attempts == 0:\n",
    "        print(\"So sorry, you are out of attempts. The secret number was:\", secret_number)\n"
   ]
  },
  {
   "cell_type": "code",
   "execution_count": null,
   "id": "59fdc0f1",
   "metadata": {},
   "outputs": [],
   "source": []
  }
 ],
 "metadata": {
  "kernelspec": {
   "display_name": "Python 3",
   "language": "python",
   "name": "python3"
  },
  "language_info": {
   "codemirror_mode": {
    "name": "ipython",
    "version": 3
   },
   "file_extension": ".py",
   "mimetype": "text/x-python",
   "name": "python",
   "nbconvert_exporter": "python",
   "pygments_lexer": "ipython3",
   "version": "3.12.1"
  }
 },
 "nbformat": 4,
 "nbformat_minor": 5
}
